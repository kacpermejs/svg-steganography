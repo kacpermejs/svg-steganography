{
 "cells": [
  {
   "cell_type": "code",
   "execution_count": 73,
   "metadata": {},
   "outputs": [
    {
     "name": "stdout",
     "output_type": "stream",
     "text": [
      "SVG file 'output/random_rectangles.svg' generated with 15 random rectangles.\n"
     ]
    },
    {
     "data": {
      "image/svg+xml": [
       "<svg xmlns=\"http://www.w3.org/2000/svg\" width=\"800\" height=\"600\">\n",
       "  <rect x=\"665.5130675546212\" y=\"366.02063594542983\" width=\"469.25082135271316\" height=\"252.92834921760965\" fill=\"#aad843\"/>\n",
       "  <rect x=\"-85.49998603755\" y=\"371.9812559113726\" width=\"275.7349063058274\" height=\"335.59943854626164\" fill=\"#e568a2\"/>\n",
       "  <rect x=\"449.5997981738051\" y=\"228.90180789009082\" width=\"132.3009010005458\" height=\"24.684757966614985\" fill=\"#025e0f\"/>\n",
       "  <rect x=\"572.0800678484828\" y=\"379.22866280356556\" width=\"175.84037851560825\" height=\"43.70086941385196\" fill=\"#e9f41b\"/>\n",
       "  <rect x=\"41.5564342846979\" y=\"384.8312784141859\" width=\"681.6989232606223\" height=\"758.2474446644342\" fill=\"#71f36a\"/>\n",
       "  <rect x=\"213.40684058245677\" y=\"-84.6874736444927\" width=\"241.55950952804503\" height=\"419.76339108638564\" fill=\"#1c529a\"/>\n",
       "  <rect x=\"-91.73267058503293\" y=\"135.64873536660323\" width=\"302.7627573735585\" height=\"173.9181545291416\" fill=\"#9e11ba\"/>\n",
       "  <rect x=\"341.39224363699\" y=\"-78.6870058413975\" width=\"8.334339144055786\" height=\"392.08975474396794\" fill=\"#a9cf99\"/>\n",
       "  <rect x=\"269.64758852198577\" y=\"20.424626948334804\" width=\"129.78565857284934\" height=\"536.0991874999132\" fill=\"#7f025b\"/>\n",
       "  <rect x=\"-9.423870846167844\" y=\"-12.518279871756533\" width=\"154.35289315130174\" height=\"323.1800911467428\" fill=\"#8a4c20\"/>\n",
       "  <rect x=\"473.6265366381343\" y=\"469.8385991463638\" width=\"191.60937978344876\" height=\"256.87323861448147\" fill=\"#817528\"/>\n",
       "  <rect x=\"499.74552922471287\" y=\"106.51932708466072\" width=\"660.2710294384583\" height=\"61.79626137483326\" fill=\"#74dd31\"/>\n",
       "  <rect x=\"362.63791473106204\" y=\"234.50750876610476\" width=\"482.40498148888565\" height=\"446.1605504620866\" fill=\"#a56dee\"/>\n",
       "  <rect x=\"344.15277827079666\" y=\"17.249654376039686\" width=\"121.12098681092303\" height=\"244.91898070809302\" fill=\"#f59906\"/>\n",
       "  <rect x=\"587.9612716366142\" y=\"-61.03941361179383\" width=\"75.17886639398009\" height=\"186.69270969388944\" fill=\"#19296b\"/>\n",
       "</svg>"
      ],
      "text/plain": [
       "<IPython.core.display.SVG object>"
      ]
     },
     "metadata": {},
     "output_type": "display_data"
    }
   ],
   "source": [
    "import random\n",
    "from IPython.display import SVG, display\n",
    "\n",
    "# Function to display SVG\n",
    "def display_svg(file_path):\n",
    "    display(SVG(filename=file_path))\n",
    "\n",
    "# Define the function to generate an SVG with random rectangles\n",
    "def generate_svg_with_random_rectangles(output_file=\"output/random_rectangles.svg\", num_rectangles=5, svg_width=800, svg_height=600):\n",
    "\n",
    "    svg_content = f'<svg width=\"{svg_width}\" height=\"{svg_height}\" xmlns=\"http://www.w3.org/2000/svg\">\\n'\n",
    "\n",
    "    for _ in range(num_rectangles):\n",
    "        x = random.random() * svg_width - 100\n",
    "        y = random.random() * svg_height - 100\n",
    "        width = random.random() * random.randint(20, 1000)\n",
    "        height = random.random() * random.randint(20, 1000)\n",
    "        color = f'#{random.randint(0, 0xFFFFFF):06x}'\n",
    "\n",
    "        svg_content += f'  <rect x=\"{x}\" y=\"{y}\" width=\"{width}\" height=\"{height}\" fill=\"{color}\" />\\n'\n",
    "\n",
    "    svg_content += '</svg>'\n",
    "\n",
    "    with open(output_file, 'w') as file:\n",
    "        file.write(svg_content)\n",
    "\n",
    "    print(f\"SVG file '{output_file}' generated with {num_rectangles} random rectangles.\")\n",
    "\n",
    "generate_svg_with_random_rectangles(num_rectangles=random.randint(5, 20))\n",
    "display_svg('output/random_rectangles.svg')\n"
   ]
  },
  {
   "cell_type": "code",
   "execution_count": 74,
   "metadata": {},
   "outputs": [
    {
     "name": "stdout",
     "output_type": "stream",
     "text": [
      "665.5130675546212\n",
      "366.02063594542983\n",
      "469.25082135271316\n",
      "252.92834921760965\n",
      "85.49998603755\n",
      "371.9812559113726\n",
      "275.7349063058274\n",
      "335.59943854626164\n",
      "449.5997981738051\n",
      "228.90180789009082\n",
      "132.3009010005458\n",
      "24.684757966614985\n",
      "572.0800678484828\n",
      "379.22866280356556\n",
      "175.84037851560825\n",
      "43.70086941385196\n",
      "41.5564342846979\n",
      "384.8312784141859\n",
      "681.6989232606223\n",
      "758.2474446644342\n",
      "213.40684058245677\n",
      "84.6874736444927\n",
      "241.55950952804503\n",
      "419.76339108638564\n",
      "91.73267058503293\n",
      "135.64873536660323\n",
      "302.7627573735585\n",
      "173.9181545291416\n",
      "341.39224363699\n",
      "78.6870058413975\n",
      "8.334339144055786\n",
      "392.08975474396794\n",
      "269.64758852198577\n",
      "20.424626948334804\n",
      "129.78565857284934\n",
      "536.0991874999132\n",
      "9.423870846167844\n",
      "12.518279871756533\n",
      "154.35289315130174\n",
      "323.1800911467428\n",
      "473.6265366381343\n",
      "469.8385991463638\n",
      "191.60937978344876\n",
      "256.87323861448147\n",
      "499.74552922471287\n",
      "106.51932708466072\n",
      "660.2710294384583\n",
      "61.79626137483326\n",
      "362.63791473106204\n",
      "234.50750876610476\n",
      "482.40498148888565\n",
      "446.1605504620866\n",
      "344.15277827079666\n",
      "17.249654376039686\n",
      "121.12098681092303\n",
      "244.91898070809302\n",
      "587.9612716366142\n",
      "61.03941361179383\n",
      "75.17886639398009\n",
      "186.69270969388944\n"
     ]
    }
   ],
   "source": [
    "import re\n",
    "\n",
    "\n",
    "def modify_floats_in_svg(file_path):\n",
    "    \n",
    "    with open(file_path, 'r') as file:\n",
    "        svg_content = file.read()\n",
    "\n",
    "    float_pattern = re.compile(r'\\b\\d+\\.\\d+\\b')\n",
    "    matches = float_pattern.findall(svg_content)\n",
    "\n",
    "    print(*matches, sep='\\n')\n",
    "\n",
    "modify_floats_in_svg('output/random_rectangles.svg')\n"
   ]
  }
 ],
 "metadata": {
  "kernelspec": {
   "display_name": "Python 3",
   "language": "python",
   "name": "python3"
  },
  "language_info": {
   "codemirror_mode": {
    "name": "ipython",
    "version": 3
   },
   "file_extension": ".py",
   "mimetype": "text/x-python",
   "name": "python",
   "nbconvert_exporter": "python",
   "pygments_lexer": "ipython3",
   "version": "3.12.0"
  }
 },
 "nbformat": 4,
 "nbformat_minor": 2
}
