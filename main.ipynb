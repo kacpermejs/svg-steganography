{
 "cells": [
  {
   "cell_type": "code",
   "execution_count": 1,
   "metadata": {},
   "outputs": [
    {
     "name": "stdout",
     "output_type": "stream",
     "text": [
      "SVG file 'output/random_rectangles.svg' generated with 28 random rectangles.\n"
     ]
    },
    {
     "data": {
      "image/svg+xml": [
       "<svg xmlns=\"http://www.w3.org/2000/svg\" width=\"800\" height=\"600\">\n",
       "  <rect x=\"326.82494849761133\" y=\"221.22032846300215\" width=\"341.4030721598612\" height=\"100.30148621108934\" fill=\"#c11873\"/>\n",
       "  <rect x=\"464.0032427639387\" y=\"-2.786376646469364\" width=\"420.87174592144027\" height=\"166.85286692323967\" fill=\"#944634\" fill-opacity=\"0.05\"/>\n",
       "  <rect x=\"288.22724030846285\" y=\"88.5791207283284\" width=\"412.0542486235808\" height=\"429.14539713440695\" fill=\"#b6b29f\" fill-opacity=\"0.2\"/>\n",
       "  <rect x=\"154.46240848726714\" y=\"167.5706199139995\" width=\"38.215107850663316\" height=\"7.4679614660046925\" fill=\"#894b21\" fill-opacity=\"0.8\"/>\n",
       "  <rect x=\"525.265670686279\" y=\"203.01655398901562\" width=\"859.7001689965068\" height=\"527.9188058952611\" fill=\"#19ea6c\" fill-opacity=\"0.95\"/>\n",
       "  <rect x=\"425.7847662997516\" y=\"10.019382066853083\" width=\"566.2978225833915\" height=\"102.45224500038077\" fill=\"#2707c8\" fill-opacity=\"0.6\"/>\n",
       "  <rect x=\"490.1273087713132\" y=\"344.41594251230424\" width=\"62.00098295492247\" height=\"446.9222337169805\" fill=\"#16a4e7\" fill-opacity=\"0.3\"/>\n",
       "  <rect x=\"296.9398668978327\" y=\"-81.65701296463823\" width=\"5.691544691608782\" height=\"820.0275193556887\" fill=\"#671acf\"/>\n",
       "  <rect x=\"170.77478859522034\" y=\"180.23759947873464\" width=\"51.21660496126399\" height=\"280.0570271450033\" fill=\"#5943ad\" fill-opacity=\"0.8\"/>\n",
       "  <rect x=\"-58.92540097805714\" y=\"405.64450782972835\" width=\"165.69346387310665\" height=\"721.9466498036538\" fill=\"#26439d\" fill-opacity=\"0.25\"/>\n",
       "  <rect x=\"89.01595564678226\" y=\"388.7278866392497\" width=\"122.144680742093\" height=\"37.703376749520565\" fill=\"#540842\" fill-opacity=\"0.55\"/>\n",
       "  <rect x=\"585.8723140790954\" y=\"55.51568397341413\" width=\"207.82069184266678\" height=\"28.08679907055179\" fill=\"#931f25\" fill-opacity=\"0.1\"/>\n",
       "  <rect x=\"261.19050526100665\" y=\"439.66529485805677\" width=\"190.91854744770353\" height=\"387.3251021159629\" fill=\"#c7e462\" fill-opacity=\"0.45\"/>\n",
       "  <rect x=\"403.8863672300874\" y=\"129.43300814776194\" width=\"289.4761735776446\" height=\"253.91451221676118\" fill=\"#41f5be\" fill-opacity=\"0.1\"/>\n",
       "  <rect x=\"182.8273515492957\" y=\"498.3438241321743\" width=\"415.1514650805258\" height=\"666.912476938866\" fill=\"#f8d440\" fill-opacity=\"0.45\"/>\n",
       "  <rect x=\"556.9432442590545\" y=\"181.01618561729566\" width=\"180.34286909607616\" height=\"348.1117834392539\" fill=\"#dfaf31\" fill-opacity=\"1.0\"/>\n",
       "  <rect x=\"395.303851374196\" y=\"205.19331067658715\" width=\"31.30582298380396\" height=\"50.86550730746335\" fill=\"#9c70a8\" fill-opacity=\"0.7\"/>\n",
       "  <rect x=\"-40.655522974838036\" y=\"40.576347550543346\" width=\"315.4752854493012\" height=\"77.51516674251205\" fill=\"#b62e71\" fill-opacity=\"0.15\"/>\n",
       "  <rect x=\"642.4971399070627\" y=\"99.83146724953991\" width=\"41.81334432636923\" height=\"575.2254399645996\" fill=\"#763f0c\" fill-opacity=\"0.85\"/>\n",
       "  <rect x=\"230.7040420235934\" y=\"84.59027082166762\" width=\"572.6687004304246\" height=\"305.05099417647995\" fill=\"#0e737d\" fill-opacity=\"0.75\"/>\n",
       "  <rect x=\"135.46873951162084\" y=\"360.5940171093339\" width=\"26.15259999977927\" height=\"573.8250591549232\" fill=\"#faebf2\" fill-opacity=\"1.0\"/>\n",
       "  <rect x=\"653.5005628058232\" y=\"413.80733236995786\" width=\"321.878981031099\" height=\"341.5562554040204\" fill=\"#b1aa6d\" fill-opacity=\"0.3\"/>\n",
       "  <rect x=\"562.2960900264713\" y=\"218.6612129217566\" width=\"327.12445377844233\" height=\"490.4616323461645\" fill=\"#d84403\"/>\n",
       "  <rect x=\"201.1330040798465\" y=\"125.9095602063588\" width=\"146.2177128990986\" height=\"50.63803704528915\" fill=\"#5e91df\"/>\n",
       "  <rect x=\"609.6675696258748\" y=\"312.70007847086947\" width=\"358.6312837028335\" height=\"583.3741772781688\" fill=\"#f3e2f0\" fill-opacity=\"0.7\"/>\n",
       "  <rect x=\"476.05745306562085\" y=\"380.9624141921334\" width=\"120.49598156361037\" height=\"112.25326539781963\" fill=\"#8a861d\" fill-opacity=\"0.05\"/>\n",
       "  <rect x=\"522.2050192561819\" y=\"448.3594972512153\" width=\"35.35510487634492\" height=\"63.19021646423347\" fill=\"#0f580f\" fill-opacity=\"0.5\"/>\n",
       "  <rect x=\"102.56923318207134\" y=\"492.93883517984455\" width=\"27.599199434800195\" height=\"653.7717548258679\" fill=\"#e5ea88\" fill-opacity=\"0.3\"/>\n",
       "</svg>"
      ],
      "text/plain": [
       "<IPython.core.display.SVG object>"
      ]
     },
     "metadata": {},
     "output_type": "display_data"
    }
   ],
   "source": [
    "from image_generator import *\n",
    "\n",
    "generate_svg_with_random_rectangles(num_rectangles=random.randint(10, 30), with_opacity=True, opacity_probability=0.7)\n",
    "display_svg('output/random_rectangles.svg')\n"
   ]
  },
  {
   "cell_type": "code",
   "execution_count": 7,
   "metadata": {},
   "outputs": [
    {
     "name": "stdout",
     "output_type": "stream",
     "text": [
      "665.5130675546212\n",
      "366.02063594542983\n",
      "469.25082135271316\n",
      "252.92834921760965\n",
      "85.49998603755\n",
      "371.9812559113726\n",
      "275.7349063058274\n",
      "335.59943854626164\n",
      "449.5997981738051\n",
      "228.90180789009082\n",
      "132.3009010005458\n",
      "24.684757966614985\n",
      "572.0800678484828\n",
      "379.22866280356556\n",
      "175.84037851560825\n",
      "43.70086941385196\n",
      "41.5564342846979\n",
      "384.8312784141859\n",
      "681.6989232606223\n",
      "758.2474446644342\n",
      "213.40684058245677\n",
      "84.6874736444927\n",
      "241.55950952804503\n",
      "419.76339108638564\n",
      "91.73267058503293\n",
      "135.64873536660323\n",
      "302.7627573735585\n",
      "173.9181545291416\n",
      "341.39224363699\n",
      "78.6870058413975\n",
      "8.334339144055786\n",
      "392.08975474396794\n",
      "269.64758852198577\n",
      "20.424626948334804\n",
      "129.78565857284934\n",
      "536.0991874999132\n",
      "9.423870846167844\n",
      "12.518279871756533\n",
      "154.35289315130174\n",
      "323.1800911467428\n",
      "473.6265366381343\n",
      "469.8385991463638\n",
      "191.60937978344876\n",
      "256.87323861448147\n",
      "499.74552922471287\n",
      "106.51932708466072\n",
      "660.2710294384583\n",
      "61.79626137483326\n",
      "362.63791473106204\n",
      "234.50750876610476\n",
      "482.40498148888565\n",
      "446.1605504620866\n",
      "344.15277827079666\n",
      "17.249654376039686\n",
      "121.12098681092303\n",
      "244.91898070809302\n",
      "587.9612716366142\n",
      "61.03941361179383\n",
      "75.17886639398009\n",
      "186.69270969388944\n"
     ]
    }
   ],
   "source": [
    "from processor import modify_floats_in_svg \n",
    "\n",
    "modify_floats_in_svg('output/random_rectangles.svg')\n"
   ]
  },
  {
   "cell_type": "code",
   "execution_count": null,
   "metadata": {},
   "outputs": [
    {
     "name": "stdout",
     "output_type": "stream",
     "text": [
      "key:\n",
      "713950709\n",
      "message:\n",
      "['h', 'h', 'h']\n",
      "ASCII message:\n",
      "108111000\n",
      "665.51307108111000\n",
      "key:\n",
      "713950709\n",
      "encrypted:\n",
      "665.51307754950509\n",
      "decrypted:\n",
      "108111000\n"
     ]
    }
   ],
   "source": [
    "from encryption import *\n",
    "\n",
    "seed = 2137\n",
    "\n",
    "inputNumber = 665.5130675546212\n",
    "\n",
    "encrypted = encrypt(['h','h','\\0'], seed, inputNumber)\n",
    "\n",
    "decrypted = decrypt(seed, encrypted)\n",
    "\n",
    "print('encrypted:')\n",
    "print(encrypted)\n",
    "print('decrypted:')\n",
    "print(decrypted)"
   ]
  },
  {
   "cell_type": "code",
   "execution_count": 2,
   "metadata": {},
   "outputs": [
    {
     "name": "stdout",
     "output_type": "stream",
     "text": [
      "[['A'], ['l'], ['a'], [' '], ['m'], ['a'], [' '], ['k'], ['o'], ['t'], ['a'], ['\\x00']]\n",
      "Modified SVG file saved to output/modified_random_rectangles.svg.\n"
     ]
    }
   ],
   "source": [
    "from processor import modify_floats_in_svg_2\n",
    "from encryption import *\n",
    "from seed import seed\n",
    "\n",
    "encrypt_lambda = lambda message, match : encrypt2(message, seed, float(match.group()))\n",
    "modify_floats_in_svg_2(\"output/random_rectangles.svg\", \"output/modified_random_rectangles.svg\", encrypt_lambda, \"haslo\")"
   ]
  },
  {
   "cell_type": "code",
   "execution_count": 3,
   "metadata": {},
   "outputs": [
    {
     "name": "stdout",
     "output_type": "stream",
     "text": [
      "File: \"output/modified_random_rectangles.svg\", contains decoded message: Ala ma ι̤˺5+ąʩýȽʶ\u0019ϮŪʳǣΰ˥ǭ˹ǳϋʥd̕\u001aǽ{gŲ̢˲Ƽ˯Ϧʫȿõ͸ʴ˩Þʤ̣ĨĮ'˩à£ʦØŢʽɣ\u0000Ιʮ\n"
     ]
    }
   ],
   "source": [
    "from processor import decrypt_message_from_svg\n",
    "from encryption import *\n",
    "from seed import seed\n",
    "\n",
    "decrypt_lambda = lambda encoded_string, chunk_size : decrypt(seed, encoded_string, chunk_size)\n",
    "\n",
    "file = \"output/modified_random_rectangles.svg\"\n",
    "message = decrypt_message_from_svg(file, decrypt_lambda, chunk_size=3)\n",
    "\n",
    "print(f\"File: \\\"{file}\\\", contains decoded message: {message}\")"
   ]
  },
  {
   "cell_type": "code",
   "execution_count": 4,
   "metadata": {},
   "outputs": [
    {
     "name": "stdout",
     "output_type": "stream",
     "text": [
      "Attribute: stroke-width\n",
      "  Expected Fraction: 0.1\n",
      "  Actual Fraction: 0.10714285714285714\n",
      "  Matches: True\n",
      "\n",
      "Attribute: stroke-linecap\n",
      "  Expected Fraction: 0.6\n",
      "  Actual Fraction: 0.6071428571428571\n",
      "  Matches: True\n",
      "\n",
      "Attribute: stroke-linejoin\n",
      "  Expected Fraction: 0.4\n",
      "  Actual Fraction: 0.39285714285714285\n",
      "  Matches: True\n",
      "\n",
      "Attribute: preserveAspectRatio\n",
      "  Expected Fraction: 0.5\n",
      "  Actual Fraction: 0.42857142857142855\n",
      "  Matches: True\n",
      "\n",
      "Attribute: colour\n",
      "  Expected Fraction: 0.8\n",
      "  Actual Fraction: 0.8571428571428571\n",
      "  Matches: True\n",
      "\n",
      "Attribute: fill-opacity\n",
      "  Expected Fraction: 0.7\n",
      "  Actual Fraction: 0.75\n",
      "  Matches: True\n",
      "\n"
     ]
    }
   ],
   "source": [
    "\n",
    "\n",
    "\n",
    "# Add redundant attributes with specific probabilities\n",
    "from signing import SVGProcessor\n",
    "\n",
    "redundant_attributes = {\n",
    "    'stroke-width': ('1', 0.1),\n",
    "    'stroke-linecap': ('butt', 0.6),\n",
    "    'stroke-linejoin': ('miter', 0.4),\n",
    "    'preserveAspectRatio': ('xMidYMid meet', 0.5),\n",
    "    'colour': ('red', 0.8)\n",
    "}\n",
    "\n",
    "epsilon = 1e-9\n",
    "\n",
    "is_multiple_of_5 = lambda x: abs(x*100.0 % 5) < epsilon or abs(x*100.0 % 5 - 5) < epsilon\n",
    "\n",
    "micro_changes = {\n",
    "    'fill-opacity': (-0.02, 0.7, 1.0, is_multiple_of_5),\n",
    "}\n",
    "\n",
    "processor = SVGProcessor(redundant_attributes, micro_changes)\n",
    "\n",
    "processor.process(\"output/random_rectangles.svg\", \"output/signed_output.svg\")\n",
    "\n",
    "results = processor.verify(\"output/signed_output.svg\")\n",
    "\n",
    "#redundant attributes\n",
    "for attribute, stats in results[0].items():\n",
    "    print(f\"Attribute: {attribute}\")\n",
    "    print(f\"  Expected Fraction: {stats['expected']}\")\n",
    "    print(f\"  Actual Fraction: {stats['actual']}\")\n",
    "    print(f\"  Matches: {stats['matches']}\")\n",
    "    print()\n",
    "    \n",
    "#micro value changes\n",
    "for attribute, stats in results[1].items():\n",
    "    print(f\"Attribute: {attribute}\")\n",
    "    print(f\"  Expected Fraction: {stats['expected']}\")\n",
    "    print(f\"  Actual Fraction: {stats['actual']}\")\n",
    "    print(f\"  Matches: {stats['matches']}\")\n",
    "    print()\n",
    "    \n"
   ]
  },
  {
   "cell_type": "markdown",
   "metadata": {},
   "source": [
    "Original:\n",
    "![output/random_rectangles.svg](output/random_rectangles.svg)\n",
    "\n",
    "Signed:\n",
    "![output/signed_output.svg](output/signed_output.svg)"
   ]
  },
  {
   "cell_type": "markdown",
   "metadata": {},
   "source": [
    "Naszym zadaniem była steganografia obrazów SVG za pomocą różnych technik. Pierwszym etapem było umieszczenie wiadomości wewnątrz obrazu w taki sposób, aby wprowadzone zmiany nie wpłynęły na jego finalny efekt wizualny. Dodaliśmy więc funkcjonalość, która pozwala na wstawianie podzielonych części wiadomości w zaszyfrowanej postaci do każdej liczby zmiennoprzecinkowej znajdującej się w obrazie. Zauważyliśmy, że ta metoda pozwala na ukrycie hasła tak, aby nawet spoglądając w kod nie można było jednoznacznie stwierdzić, że zostało w nim coś celowo zmienione. Oczywiście po enkrypcji przyszedł również czas na odzyskanie ukrytego hasła. Na podstawie znanego seeda udało nam się stworzyć funkcjonalność, która pozwala na uzyskanie z przerobionego obrazu naszej wcześniej ukrytej wiadomości. \n",
    "Następnie oprócz ukrywania samej wiadomości postanowiliśmy dodać również metodę, która pozwoli na sprawdzenie, czy dany obraz z pewnym prawdopodobieństwem posiada ukryte przez nas hasło. W ten sposób uzyskaliśmy możliwość swojego rodzaju podpisania obrazu również tak, aby podpis ten był niewidoczny na pierwszy rzut oka. Na podstawie przeskanowanego obrazu i sprawdzenia występowania odpowiednich elementów w obrazie sprawdzane jest, czy z podobnym prawdopodobieństwem one występują. Otrzymując wynik możemy porównać go z oczekiwanym, który pozwala nam stwierdzić, że z dużym prawdopodobieństwem ten obraz został podpisany właśnie przez nas.\n",
    "Cały projekt uważamy za udany, który pozwolił nam zdobyć nowe, cenne doświadczenie oraz wiedzę. Steganografia to bardzo obszerny temat, który z pewnością jest aktualny i warto mieć świadomość występowania takich mechanizmów w praktyce."
   ]
  },
  {
   "cell_type": "markdown",
   "metadata": {},
   "source": [
    "# Schemat pierwszego algorytmu\n",
    "Proces kodowania wiadomości wewnątrz obrazu.\n",
    "\n",
    "![docs/schematic1.png](docs/schematic1.png)\n",
    "\n"
   ]
  },
  {
   "cell_type": "markdown",
   "metadata": {},
   "source": [
    "# Schemat drugiego algorytmu\n",
    "\n",
    "Proces modułowy z opcją dodania innych kryteriów oceny. Operacje dzieją się kolejno po sobie.\n",
    "\n",
    "![docs/schematic2.png](docs/schematic2.png)\n",
    "\n",
    "![docs/schematic3.png](docs/schematic3.png)"
   ]
  }
 ],
 "metadata": {
  "kernelspec": {
   "display_name": "Python 3",
   "language": "python",
   "name": "python3"
  },
  "language_info": {
   "codemirror_mode": {
    "name": "ipython",
    "version": 3
   },
   "file_extension": ".py",
   "mimetype": "text/x-python",
   "name": "python",
   "nbconvert_exporter": "python",
   "pygments_lexer": "ipython3",
   "version": "3.12.0"
  }
 },
 "nbformat": 4,
 "nbformat_minor": 2
}
